{
 "cells": [
  {
   "cell_type": "markdown",
   "metadata": {},
   "source": [
    "# Ex 9: The Martian"
   ]
  },
  {
   "cell_type": "code",
   "execution_count": 138,
   "metadata": {},
   "outputs": [],
   "source": [
    "import matplotlib.pyplot as plt\n",
    "from math import pi\n",
    "\n",
    "from space_base import GravBody, Probe\n",
    "from numpy import linspace, sqrt, pi, cos, sin, arccos\n",
    "\n",
    "# Define constants\n",
    "G = 6.67e-11  # Gravitational constant\n",
    "mars = GravBody(name=\"Mars\", mass=0.64169e24, radius=3389.5e3)  # Mars as an object with mass and radius\n",
    "sun = GravBody(name=\"Sun\", mass=1_988_500e24, radius=695_700e3)  # Sun as an object with mass and radius\n",
    "\n",
    "# Define conversion function\n",
    "def UA_to_meters(UA):\n",
    "    return UA * 1.496e11"
   ]
  },
  {
   "cell_type": "markdown",
   "metadata": {},
   "source": [
    "The first step is to design a circular orbit at an altitude of 200km. For this, we can use the previous energy formula and simplify it for perfectly circular orbit.\n",
    "\n",
    "$$a=\\frac{r_{perihelion}+r_{aphelion}}{2}$$\n",
    "$$r_{perihelion}=r_{aphelion}=r=a$$\n",
    "$$V=\\sqrt{GM_{sun}(\\frac{2}{r}-\\frac{1}{a})}$$\n",
    "$$V=\\sqrt{\\frac{GM_{sun}}{r}}$$"
   ]
  },
  {
   "cell_type": "code",
   "execution_count": 139,
   "metadata": {},
   "outputs": [
    {
     "data": {
      "text/plain": [
       "3.4530953751079427"
      ]
     },
     "execution_count": 139,
     "metadata": {},
     "output_type": "execute_result"
    }
   ],
   "source": [
    "r = 200e3 + mars.radius  # Radius distance in meters\n",
    "v_init = sqrt(G * mars.mass / r)  # Velocity on initial circular orbit\n",
    "v_init / 1e3  # Velocity at perihelion in km/s"
   ]
  },
  {
   "cell_type": "markdown",
   "metadata": {},
   "source": [
    "We also need to compute the require velocity the probe need to have at its aphelion to return to earth using an Hohmann transfer. This will be our needed residual velocity. "
   ]
  },
  {
   "cell_type": "code",
   "execution_count": 140,
   "metadata": {},
   "outputs": [
    {
     "data": {
      "text/plain": [
       "21.47028240604332"
      ]
     },
     "execution_count": 140,
     "metadata": {},
     "output_type": "execute_result"
    }
   ],
   "source": [
    "r_earth = UA_to_meters(1)  # Earth's radius in meters\n",
    "r_mars = UA_to_meters(1.524)  # Mars' radius in meters\n",
    "\n",
    "# Define the probe final orbit\n",
    "r_per = r_earth  # Perihelion distance\n",
    "r_aph = r_mars  # Aphelion distance\n",
    "\n",
    "a_tfr = (r_per + r_aph) / 2  # Semi-major axis\n",
    "v_hyp_abs = sqrt(G * sun.mass * (2 / r_aph - 1 / a_tfr))  # Absolute velocity at aphelion (relative to the Sun)\n",
    "v_hyp_abs / 1e3  # Residual velocity in km/s"
   ]
  },
  {
   "cell_type": "code",
   "execution_count": 141,
   "metadata": {},
   "outputs": [
    {
     "data": {
      "text/plain": [
       "-2.6491694858055017"
      ]
     },
     "execution_count": 141,
     "metadata": {},
     "output_type": "execute_result"
    }
   ],
   "source": [
    "v_mars = sqrt(G * sun.mass / r_mars)  # Mars' velocity\n",
    "v_hyp = v_hyp_abs - v_mars  # Hypothetical velocity at aphelion (relative to Mars)\n",
    "v_hyp / 1e3  # Velocity in km/s"
   ]
  },
  {
   "cell_type": "markdown",
   "metadata": {},
   "source": [
    "To obtain the velocity at the periapsis of our probe around Mars so that it can escape it we can use the energy formula. We already know that $E=\\frac{1}{2}V^2-\\frac{GM_{mars}}{r}$, so when $r\\rightarrow\\infty;E=\\frac{1}{2}V_{hyp}^2$\n",
    "\n",
    "So,\n",
    "\n",
    "$$\\frac{1}{2}V_{hyp}^2=\\frac{1}{2}V_{per}^2-\\frac{GM_{mars}}{r_{per}}$$\n",
    "$$2*(\\frac{1}{2}V_{hyp}^2+\\frac{GM_{mars}}{r_{per}})=V_{per}^2$$\n",
    "$$V_{per}=\\sqrt{V_{hyp}^2+\\frac{2GM_{mars}}{r_{per}}}$$"
   ]
  },
  {
   "cell_type": "code",
   "execution_count": 142,
   "metadata": {},
   "outputs": [
    {
     "data": {
      "text/plain": [
       "5.555702863158424"
      ]
     },
     "execution_count": 142,
     "metadata": {},
     "output_type": "execute_result"
    }
   ],
   "source": [
    "v_per = sqrt(v_hyp**2 + 2*G*mars.mass/r)\n",
    "v_per / 1e3  # Velocity at perihelion in km/s"
   ]
  },
  {
   "cell_type": "markdown",
   "metadata": {},
   "source": [
    "We can also compute $a$ and $e$ for this escape orbit with:\n",
    "$$a=\\frac{GM_{mars}}{V_{hyp}^2}$$\n",
    "$$e=\\frac{r_p}{a}+1$$"
   ]
  },
  {
   "cell_type": "code",
   "execution_count": 143,
   "metadata": {},
   "outputs": [
    {
     "data": {
      "text/plain": [
       "6098.620611701382"
      ]
     },
     "execution_count": 143,
     "metadata": {},
     "output_type": "execute_result"
    }
   ],
   "source": [
    "a = G*mars.mass / (v_hyp**2)  # Semi-major axis\n",
    "a / 1e3  # Semi-major axis in km"
   ]
  },
  {
   "cell_type": "code",
   "execution_count": 144,
   "metadata": {},
   "outputs": [
    {
     "data": {
      "text/plain": [
       "1.5885757171241068"
      ]
     },
     "execution_count": 144,
     "metadata": {},
     "output_type": "execute_result"
    }
   ],
   "source": [
    "e = 1 + (r / a)  # Eccentricity\n",
    "e # Eccentricity"
   ]
  },
  {
   "cell_type": "markdown",
   "metadata": {},
   "source": [
    "We can also deduce the $\\beta$ angle with $\\cos{\\beta}=\\frac{1}{e}$"
   ]
  },
  {
   "cell_type": "code",
   "execution_count": 145,
   "metadata": {},
   "outputs": [
    {
     "data": {
      "text/plain": [
       "50.98714749340521"
      ]
     },
     "execution_count": 145,
     "metadata": {},
     "output_type": "execute_result"
    }
   ],
   "source": [
    "beta_angle=arccos(1/e)\n",
    "beta_angle * 180 / pi  # Beta angle in degrees"
   ]
  },
  {
   "cell_type": "markdown",
   "metadata": {},
   "source": [
    "With these settings we will be firing our probe in the opposition direction from Mars orbit as we need to slow down to lower our perihelion to match Earth orbit."
   ]
  },
  {
   "cell_type": "markdown",
   "metadata": {},
   "source": [
    "Finally, we can plot the trajectory until the probe reach a point PM which is as far as 18 times the mars radius from the planet center. We can overestimate the time needed for the probe to reach the point by taking as mean velocity the lowest one (v_hyp) and use an event condition to trigger the end of the simulation at the right time."
   ]
  },
  {
   "cell_type": "code",
   "execution_count": 146,
   "metadata": {},
   "outputs": [],
   "source": [
    "def probeqns(_, posvel):\n",
    "    r = sqrt(posvel[0] ** 2 + posvel[1] ** 2)\n",
    "    f = -G * mars.mass / r ** 3\n",
    "    gravity_force = f * posvel[0:2]\n",
    "    axy = gravity_force\n",
    "\n",
    "    return posvel[2], posvel[3], axy[0], axy[1]"
   ]
  },
  {
   "cell_type": "code",
   "execution_count": 147,
   "metadata": {},
   "outputs": [],
   "source": [
    "xy0 = [-r*cos(beta_angle), r*sin(beta_angle)]  # start position\n",
    "vxy0 = [sin(beta_angle)*v_per, cos(beta_angle)*v_per]  # start vertical speed\n",
    "period = 18*mars.radius / abs(v_hyp)\n",
    "\n",
    "probe = Probe(probeqns, period, period, x0=xy0[0], vx0=vxy0[0], \n",
    "            y0=xy0[1], vy0=vxy0[1], event=mars.radius*18, eventflip=True) # probe as an object\n",
    "t, posvel = probe.odesolve() # solve the differential equations"
   ]
  },
  {
   "cell_type": "code",
   "execution_count": 148,
   "metadata": {},
   "outputs": [
    {
     "data": {
      "image/png": "[encoded data removed]",
      "text/plain": [
       "<Figure size 800x800 with 1 Axes>"
      ]
     },
     "metadata": {},
     "output_type": "display_data"
    }
   ],
   "source": [
    "plt.figure(figsize=(8, 8))  # create figure, figsize can be changed as preferred\n",
    "\n",
    "# Plotting Earth's and Mars' orbit\n",
    "uang = linspace(0, 2 * pi, 100)\n",
    "x = (mars.radius / 1e3) * cos(uang)\n",
    "y = (mars.radius / 1e3) * sin(uang)\n",
    "plt.plot(x, y, color='red')\n",
    "\n",
    "plt.plot(posvel[:, 0] / 1e3, posvel[:, 1] / 1e3, color='blue') # plot the probe's orbit\n",
    "\n",
    "plt.xlabel('x (km)')\n",
    "plt.ylabel('y (km)')\n",
    "plt.axis('equal')\n",
    "plt.legend(['Mars', 'Probe'])\n",
    "plt.show() # make plot appear"
   ]
  },
  {
   "cell_type": "code",
   "execution_count": 149,
   "metadata": {},
   "outputs": [
    {
     "data": {
      "text/plain": [
       "'5:17:08.021686'"
      ]
     },
     "execution_count": 149,
     "metadata": {},
     "output_type": "execute_result"
    }
   ],
   "source": [
    "from datetime import timedelta\n",
    "str(timedelta(seconds=t[len(t)-1])) # time of flight in hh:mm:ss"
   ]
  },
  {
   "cell_type": "code",
   "execution_count": 150,
   "metadata": {},
   "outputs": [],
   "source": [
    "from numpy.lib.stride_tricks import sliding_window_view\n",
    "pos_slice = sliding_window_view(posvel[:, 0:2], window_shape = [2, 2])\n",
    "total_dist = sum([ sqrt((pos[0, 0, 0] - pos[0, 1, 0])**2 +  (pos[0, 0, 1] - pos[0, 1, 1])**2) for pos in pos_slice])"
   ]
  },
  {
   "cell_type": "code",
   "execution_count": 151,
   "metadata": {},
   "outputs": [
    {
     "data": {
      "text/plain": [
       "61011.50753647896"
      ]
     },
     "execution_count": 151,
     "metadata": {},
     "output_type": "execute_result"
    }
   ],
   "source": [
    "sqrt(posvel[len(t)-1, 0]**2 + posvel[len(t)-1, 1]**2)/ 1e3 # Direct distance from Mars center in km"
   ]
  },
  {
   "cell_type": "code",
   "execution_count": 152,
   "metadata": {},
   "outputs": [
    {
     "data": {
      "text/plain": [
       "63492.58205912211"
      ]
     },
     "execution_count": 152,
     "metadata": {},
     "output_type": "execute_result"
    }
   ],
   "source": [
    "total_dist / 1e3 # Total distance in km"
   ]
  },
  {
   "cell_type": "code",
   "execution_count": 153,
   "metadata": {},
   "outputs": [
    {
     "data": {
      "text/plain": [
       "3.3367936564991236"
      ]
     },
     "execution_count": 153,
     "metadata": {},
     "output_type": "execute_result"
    }
   ],
   "source": [
    "(total_dist / t[len(t)-1]) / 1e3 # average speed in km/s"
   ]
  }
 ],
 "metadata": {
  "kernelspec": {
   "display_name": "env",
   "language": "python",
   "name": "python3"
  },
  "language_info": {
   "codemirror_mode": {
    "name": "ipython",
    "version": 3
   },
   "file_extension": ".py",
   "mimetype": "text/x-python",
   "name": "python",
   "nbconvert_exporter": "python",
   "pygments_lexer": "ipython3",
   "version": "3.11.8"
  }
 },
 "nbformat": 4,
 "nbformat_minor": 2
}
