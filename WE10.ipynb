{
 "cells": [
  {
   "cell_type": "markdown",
   "metadata": {},
   "source": [
    "# Ex 10: The moment of inertia tensor of a Space Station"
   ]
  },
  {
   "cell_type": "markdown",
   "metadata": {},
   "source": [
    "Let's assume a space station define by the given modules:\n",
    "\n",
    "Module|Mass|x|y|z\n",
    "--|--|--|--|--\n",
    "Astrophysics module|3|6|-2|0\n",
    "Robotics repair plant|4|3|1|-2\n",
    "Power plant|7|-4|1|2\n",
    "Docking module|5|-4|-2|-4\n",
    "Communications module|4|3|2|-1\n",
    "Solar arrays|3|2|-1|6\n",
    "\n",
    "We can then calculate the total mass, center of mass and inertia matrix of the station."
   ]
  },
  {
   "cell_type": "code",
   "execution_count": 45,
   "metadata": {},
   "outputs": [
    {
     "data": {
      "text/plain": [
       "26"
      ]
     },
     "execution_count": 45,
     "metadata": {},
     "output_type": "execute_result"
    }
   ],
   "source": [
    "import numpy as np\n",
    "from numpy.linalg import eig\n",
    "\n",
    "modules = np.array([[3,  6, -2,  0],\n",
    "                    [4,  3,  1, -2],\n",
    "                    [7, -4,  1,  2],\n",
    "                    [5, -4, -2, -4],\n",
    "                    [4,  3,  2, -1],\n",
    "                    [3,  2, -1,  6]])\n",
    "\n",
    "total_mass = np.sum(modules, axis=0)[0]\n",
    "total_mass"
   ]
  },
  {
   "cell_type": "markdown",
   "metadata": {},
   "source": [
    "The center of mass of the space station can be find using the mass and position off all the submodules:\n",
    "\n",
    "$$x_{com}=\\frac{\\sum{m_i*x_i}}{m_{total}}$$\n",
    "$$y_{com}=\\frac{\\sum{m_i*y_i}}{m_{total}}$$\n",
    "$$z_{com}=\\frac{\\sum{m_i*z_i}}{m_{total}}$$"
   ]
  },
  {
   "cell_type": "code",
   "execution_count": 46,
   "metadata": {},
   "outputs": [
    {
     "data": {
      "text/plain": [
       "array([0., 0., 0.])"
      ]
     },
     "execution_count": 46,
     "metadata": {},
     "output_type": "execute_result"
    }
   ],
   "source": [
    "center_of_mass = (modules[:, 1:].transpose() * modules[:, 0]).sum(axis=1) / total_mass\n",
    "center_of_mass"
   ]
  },
  {
   "cell_type": "markdown",
   "metadata": {},
   "source": [
    "Center of mass is at the origin of the coordinate system.\n",
    "\n",
    "We can find the inertia matrix of the system with:\n",
    "\n",
    "$$\n",
    "I=\n",
    "\\left(\n",
    "\\begin{array}{ccc}\n",
    "I_{xx} & I_{xy} & I_{xz} \\\\\n",
    "I_{xy} & I_{yy} & I_{yz} \\\\\n",
    "I_{xz} & I_{yz} & I_{zz} \\\\\n",
    "\\end{array}\n",
    "\\right)\n",
    "=\n",
    "\\left(\n",
    "\\begin{array}{ccc}\n",
    "\\sum{m(y^2 + z^2)} & -\\sum{mxy}         & -\\sum{mxz} \\\\\n",
    "-\\sum{mxy}         & \\sum{m(x^2 + z^2)} & -\\sum{myz} \\\\\n",
    "-\\sum{mxz}         & -\\sum{myz}         & \\sum{m(x^2 + y^2)} \\\\\n",
    "\\end{array}\n",
    "\\right)\n",
    "$$"
   ]
  },
  {
   "cell_type": "code",
   "execution_count": 47,
   "metadata": {},
   "outputs": [
    {
     "data": {
      "text/plain": [
       "array([[298,  -6, -24],\n",
       "       [ -6, 620, -20],\n",
       "       [-24, -20, 446]])"
      ]
     },
     "execution_count": 47,
     "metadata": {},
     "output_type": "execute_result"
    }
   ],
   "source": [
    "def inertia_moment(mass, x, y):\n",
    "    return mass * (x**2 + y**2)\n",
    "def inertia_product(mass, x, y):\n",
    "    return mass * x * y\n",
    "\n",
    "inertia = np.array([[0, 0, 0],\n",
    "                    [0, 0, 0],\n",
    "                    [0, 0, 0]])\n",
    "\n",
    "for m, x, y, z in modules:\n",
    "    inertia += np.array([[inertia_moment(m, y, z), -inertia_product(m, x, y), -inertia_product(m, x, z)],\n",
    "                         [-inertia_product(m, x, y), inertia_moment(m, x, z), -inertia_product(m, y, z)],\n",
    "                         [-inertia_product(m, x, z), -inertia_product(m, y, z), inertia_moment(m, x, y)]])\n",
    "\n",
    "inertia"
   ]
  },
  {
   "cell_type": "markdown",
   "metadata": {},
   "source": [
    "All symmetrical inertia matrices can be diagonalised using eig vectors as the new base and the moments of inertia for these primary directions will be the corresponding eig values."
   ]
  },
  {
   "cell_type": "code",
   "execution_count": 48,
   "metadata": {},
   "outputs": [
    {
     "name": "stdout",
     "output_type": "stream",
     "text": [
      "E-value: [293.95245163 447.74525937 622.302289  ]\n",
      "E-vector [[-0.98681235 -0.16155017  0.01014485]\n",
      " [-0.02793964  0.10826326 -0.99372956]\n",
      " [-0.15943887  0.98090805  0.11134918]]\n"
     ]
    }
   ],
   "source": [
    "w,v=eig(inertia)\n",
    "print('E-value:', w)\n",
    "print('E-vector', v)"
   ]
  },
  {
   "cell_type": "markdown",
   "metadata": {},
   "source": [
    "## New Solar arrays mass\n",
    "\n",
    "Now, let's update the modules tables with the below values and find the new center of mass and inertia matrix.\n",
    "\n",
    "Module|Mass|x|y|z\n",
    "--|--|--|--|--\n",
    "Astrophysics module|3|6|-2|0\n",
    "Robotics repair plant|4|3|1|-2\n",
    "Power plant|7|-4|1|2\n",
    "Docking module|5|-4|-2|-4\n",
    "Communications module|4|3|2|-1\n",
    "Solar arrays|5|2|-1|6"
   ]
  },
  {
   "cell_type": "code",
   "execution_count": 49,
   "metadata": {},
   "outputs": [
    {
     "data": {
      "text/plain": [
       "28"
      ]
     },
     "execution_count": 49,
     "metadata": {},
     "output_type": "execute_result"
    }
   ],
   "source": [
    "modules = np.array([[3,  6, -2,  0],\n",
    "                    [4,  3,  1, -2],\n",
    "                    [7, -4,  1,  2],\n",
    "                    [5, -4, -2, -4],\n",
    "                    [4,  3,  2, -1],\n",
    "                    [5,  2, -1,  6]])\n",
    "\n",
    "total_mass = np.sum(modules, axis=0)[0]\n",
    "total_mass"
   ]
  },
  {
   "cell_type": "code",
   "execution_count": 50,
   "metadata": {},
   "outputs": [
    {
     "data": {
      "text/plain": [
       "array([ 0.14285714, -0.07142857,  0.42857143])"
      ]
     },
     "execution_count": 50,
     "metadata": {},
     "output_type": "execute_result"
    }
   ],
   "source": [
    "center_of_mass = (modules[:, 1:].transpose() * modules[:, 0]).sum(axis=1) / total_mass\n",
    "center_of_mass"
   ]
  },
  {
   "cell_type": "code",
   "execution_count": 51,
   "metadata": {},
   "outputs": [
    {
     "data": {
      "text/plain": [
       "array([[366.71428571,  -2.28571429, -46.28571429],\n",
       "       [ -2.28571429, 694.28571429,  -8.85714286],\n",
       "       [-46.28571429,  -8.85714286, 455.28571429]])"
      ]
     },
     "execution_count": 51,
     "metadata": {},
     "output_type": "execute_result"
    }
   ],
   "source": [
    "inertia = np.array([[0, 0, 0],\n",
    "                    [0, 0, 0],\n",
    "                    [0, 0, 0]], dtype=float)\n",
    "\n",
    "for m, x, y, z in modules:\n",
    "    inertia += np.array([[inertia_moment(m, y-center_of_mass[1], z-center_of_mass[2]), -inertia_product(m, x-center_of_mass[0], y-center_of_mass[1]), -inertia_product(m, x-center_of_mass[0], z-center_of_mass[2])],\n",
    "                        [-inertia_product(m, x-center_of_mass[0], y-center_of_mass[1]), inertia_moment(m, x-center_of_mass[0], z-center_of_mass[2]), -inertia_product(m, y-center_of_mass[1], z-center_of_mass[2])],\n",
    "                        [-inertia_product(m, x-center_of_mass[0], z-center_of_mass[2]), -inertia_product(m, y-center_of_mass[1], z-center_of_mass[2]), inertia_moment(m, x-center_of_mass[0], y-center_of_mass[1])]])\n",
    "\n",
    "inertia"
   ]
  },
  {
   "cell_type": "code",
   "execution_count": 52,
   "metadata": {},
   "outputs": [
    {
     "name": "stdout",
     "output_type": "stream",
     "text": [
      "E-value: [293.95245163 447.74525937 622.302289  ]\n",
      "E-vector [[-0.98681235 -0.16155017  0.01014485]\n",
      " [-0.02793964  0.10826326 -0.99372956]\n",
      " [-0.15943887  0.98090805  0.11134918]]\n"
     ]
    }
   ],
   "source": [
    "w_new,v_new=eig(inertia)\n",
    "print('E-value:', w)\n",
    "print('E-vector', v)"
   ]
  },
  {
   "cell_type": "code",
   "execution_count": 54,
   "metadata": {},
   "outputs": [
    {
     "data": {
      "text/plain": [
       "array([52.89849109, 27.07498192, 72.31224128])"
      ]
     },
     "execution_count": 54,
     "metadata": {},
     "output_type": "execute_result"
    }
   ],
   "source": [
    "w_new - w"
   ]
  },
  {
   "cell_type": "markdown",
   "metadata": {},
   "source": [
    "As expected the moment of inertia increase as the mass of the solar arrays increase because the station is now harder to rotate (therefore more stable to external perturbation). But we can acknowledge that a small change of mass impact drasticaly the inertia of the whole system."
   ]
  }
 ],
 "metadata": {
  "kernelspec": {
   "display_name": "env",
   "language": "python",
   "name": "python3"
  },
  "language_info": {
   "codemirror_mode": {
    "name": "ipython",
    "version": 3
   },
   "file_extension": ".py",
   "mimetype": "text/x-python",
   "name": "python",
   "nbconvert_exporter": "python",
   "pygments_lexer": "ipython3",
   "version": "3.11.8"
  }
 },
 "nbformat": 4,
 "nbformat_minor": 2
}
