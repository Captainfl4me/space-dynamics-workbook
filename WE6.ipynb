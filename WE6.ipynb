{
 "cells": [
  {
   "cell_type": "markdown",
   "metadata": {},
   "source": [
    "## Ex 6: Drag for 3D motion"
   ]
  },
  {
   "cell_type": "code",
   "execution_count": 113,
   "metadata": {},
   "outputs": [],
   "source": [
    "import matplotlib.pyplot as plt\n",
    "from space_base import GravBody, Probe\n",
    "from numpy import sqrt, linspace, pi, cos, sin, exp, outer, size, ones\n",
    "\n",
    "# Constants\n",
    "G = 6.67e-11  # Gravitational constant\n",
    "earth = GravBody.earth()  # Earth as an object with mass and radius"
   ]
  },
  {
   "cell_type": "markdown",
   "metadata": {},
   "source": [
    "To create an isothermal atmosphere around the earth we can reuse our atmosphere function to compute air density."
   ]
  },
  {
   "cell_type": "code",
   "execution_count": 114,
   "metadata": {},
   "outputs": [],
   "source": [
    "def atmosphere(h):\n",
    "    surfacedens=1.217\n",
    "    scaleheight=8500\n",
    "    return surfacedens*exp(-h/scaleheight)"
   ]
  },
  {
   "cell_type": "markdown",
   "metadata": {},
   "source": [
    "Then, we need to adapt the previous equation by using the 3 dimensions."
   ]
  },
  {
   "cell_type": "code",
   "execution_count": 115,
   "metadata": {},
   "outputs": [],
   "source": [
    "\n",
    "def probeqns(t, posvel):\n",
    "    r = sqrt(posvel[0] ** 2 + posvel[1] ** 2 + posvel[2] ** 2)\n",
    "    f = -G * earth.mass / r ** 3\n",
    "    gravity_force = f * posvel[0], f * posvel[1], f * posvel[2]\n",
    "\n",
    "    cd=0.1\n",
    "    A=0.01\n",
    "    v2 = posvel[3] ** 2 + posvel[4] ** 2 + posvel[5] ** 2\n",
    "    unit_v = posvel[3:6] / sqrt(v2)\n",
    "    drag_force = -0.5 * cd * A * atmosphere(r - earth.radius) * v2 * unit_v\n",
    "    axyz = drag_force + gravity_force\n",
    "\n",
    "    return posvel[3], posvel[4], posvel[5], axyz[0], axyz[1], axyz[2]"
   ]
  }
 ],
 "metadata": {
  "kernelspec": {
   "display_name": "env",
   "language": "python",
   "name": "python3"
  },
  "language_info": {
   "codemirror_mode": {
    "name": "ipython",
    "version": 3
   },
   "file_extension": ".py",
   "mimetype": "text/x-python",
   "name": "python",
   "nbconvert_exporter": "python",
   "pygments_lexer": "ipython3",
   "version": "3.11.6"
  }
 },
 "nbformat": 4,
 "nbformat_minor": 2
}
