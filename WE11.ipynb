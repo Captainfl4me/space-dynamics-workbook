{
 "cells": [
  {
   "cell_type": "markdown",
   "metadata": {},
   "source": [
    "# Ex 11: The stability of spin motion for an irregular asteroid\n",
    "\n",
    "To study the stability of spin motion for an irregular shape we need a mass model to represent it. In the case of this asteroid we are going to use the following:\n",
    "\n",
    "|z = 1||z = 0||z = -1||\n",
    "--|--|--|--|--|--\n",
    "x|y|x|y|x|y\n",
    "-1|4|-3|3|-2|2\n",
    "0|3|-3|1|-1|5\n",
    "0|-5|-2|4|-1|3\n",
    "1|4|-2|2|-1|1\n",
    "1|-2|-2|0|-1|-5\n",
    "|||-2|-4|0|6\n",
    "|||-1|5|0|4\n",
    "|||-1|3|0|2\n",
    "|||-1|1|0|0\n",
    "|||-1|-1|0|2\n",
    "|||-1|-3|0|4\n",
    "|||-1|-5|0|6\n",
    "|||-1|-7|1|5\n",
    "|||0|6|1|3\n",
    "|||0|4|1|1\n",
    "|||0|2|1|-3\n",
    "|||0|0|1|-5\n",
    "|||0|-2|2|4\n",
    "|||0|-4\n",
    "|||0|-6\n",
    "|||1|5\n",
    "|||1|3\n",
    "|||1|1\n",
    "|||1|-1\n",
    "|||1|-3\n",
    "|||1|-5\n",
    "|||2|4\n",
    "|||2|2\n",
    "|||2|0\n",
    "|||2|-2\n",
    "|||3|1"
   ]
  },
  {
   "cell_type": "code",
   "execution_count": 5,
   "metadata": {},
   "outputs": [
    {
     "data": {
      "text/plain": [
       "[-0.037037037037037035, 0.7962962962962963, -0.24074074074074073]"
      ]
     },
     "execution_count": 5,
     "metadata": {},
     "output_type": "execute_result"
    }
   ],
   "source": [
    "import numpy as np\n",
    "\n",
    "SCALE = 300\n",
    "masslumps=np.array([[-1,4,1],\n",
    "[0,3,1],\n",
    "[0,-5,1],\n",
    "[1,4,1],\n",
    "[1,-2,1],\n",
    "[-3,3,0],\n",
    "[-3,1,0],\n",
    "[-2,4,0],\n",
    "[-2,2,0],\n",
    "[-2,0,0],\n",
    "[-2,-4,0],\n",
    "[-1,5,0],\n",
    "[-1,3,0],\n",
    "[-1,1,0],\n",
    "[-1,-1,0],\n",
    "[-1,-3,0],\n",
    "[-1,-5,0],\n",
    "[-1,-7,0],\n",
    "[0,6,0],\n",
    "[0,4,0],\n",
    "[0,2,0],\n",
    "[0,0,0],\n",
    "[0,-2,0],\n",
    "[0,-4,0],\n",
    "[0,-6,0],\n",
    "[1,5,0],\n",
    "[1,3,0],\n",
    "[1,1,0],\n",
    "[1,-1,0],\n",
    "[1,-3,0],\n",
    "[1,-5,0],\n",
    "[2,4,0],\n",
    "[2,2,0],\n",
    "[2,0,0],\n",
    "[2,-2,0],\n",
    "[3,1,0],\n",
    "[-2,2,-1],\n",
    "[-1,5,-1],\n",
    "[-1,3,-1],\n",
    "[-1,1,-1],\n",
    "[-1,-5,-1],\n",
    "[0,6,-1],\n",
    "[0,4,-1],\n",
    "[0,2,-1],\n",
    "[0,0,-1],\n",
    "[0,2,-1],\n",
    "[0,4,-1],\n",
    "[0,6,-1],\n",
    "[1,5,-1],\n",
    "[1,3,-1],\n",
    "[1,1,-1],\n",
    "[1,-3,-1],\n",
    "[1,-5,-1],\n",
    "[2,4,-1]])\n",
    "\n",
    "unit_com = np.mean(masslumps, axis=0)\n",
    "center_of_mass = unit_com*SCALE\n",
    "points_remap = masslumps*SCALE - center_of_mass\n",
    "list(unit_com) # Center of mass coordinates in the form [x, y, z] in the unit cell"
   ]
  },
  {
   "cell_type": "code",
   "execution_count": 6,
   "metadata": {},
   "outputs": [
    {
     "data": {
      "text/plain": [
       "[-11.11111111111111, 238.88888888888889, -72.22222222222221]"
      ]
     },
     "execution_count": 6,
     "metadata": {},
     "output_type": "execute_result"
    }
   ],
   "source": [
    "list(center_of_mass) # Center of mass coordinates in the form [x, y, z] in physical space"
   ]
  },
  {
   "cell_type": "markdown",
   "metadata": {},
   "source": [
    "To be sure that the new coordinate system is centered around the center of mass, we can calculate its center of mass and expect a point centered at the origin. The result will not be perfect due to computer float number precision."
   ]
  },
  {
   "cell_type": "code",
   "execution_count": 10,
   "metadata": {},
   "outputs": [
    {
     "data": {
      "text/plain": [
       "[1.0947621410229691e-13, 6.736997790910579e-14, -3.0527021240063567e-14]"
      ]
     },
     "execution_count": 10,
     "metadata": {},
     "output_type": "execute_result"
    }
   ],
   "source": [
    "list(np.mean(points_remap, axis=0)) # Should be [0, 0, 0]"
   ]
  },
  {
   "cell_type": "markdown",
   "metadata": {},
   "source": [
    "Now, knowing that the total mass of the asteroid is $5.10^{13}kg$, it is possible to deduce the mass of each lumps."
   ]
  },
  {
   "cell_type": "code",
   "execution_count": 7,
   "metadata": {},
   "outputs": [
    {
     "data": {
      "text/plain": [
       "925925925925.9259"
      ]
     },
     "execution_count": 7,
     "metadata": {},
     "output_type": "execute_result"
    }
   ],
   "source": [
    "total_mass = 5e13 # Total mass of the system (in kg)\n",
    "mass_per_point = total_mass / len(masslumps)\n",
    "mass_per_point # Mass of each point (in kg)"
   ]
  },
  {
   "cell_type": "markdown",
   "metadata": {},
   "source": [
    "Now, it is possible to calculate the inertia matrix as well as the three principal moments of inertia with the formula:\n",
    "\n",
    "$$\n",
    "I=\n",
    "\\left(\n",
    "\\begin{array}{ccc}\n",
    "I_{xx} & I_{xy} & I_{xz} \\\\\n",
    "I_{xy} & I_{yy} & I_{yz} \\\\\n",
    "I_{xz} & I_{yz} & I_{zz} \\\\\n",
    "\\end{array}\n",
    "\\right)\n",
    "=\n",
    "\\left(\n",
    "\\begin{array}{ccc}\n",
    "\\sum{m(y^2 + z^2)} & -\\sum{mxy}         & -\\sum{mxz} \\\\\n",
    "-\\sum{mxy}         & \\sum{m(x^2 + z^2)} & -\\sum{myz} \\\\\n",
    "-\\sum{mxz}         & -\\sum{myz}         & \\sum{m(x^2 + y^2)} \\\\\n",
    "\\end{array}\n",
    "\\right)\n",
    "$$\n",
    "\n",
    "For principal moments of inertia, it is the eigen values of this matrix."
   ]
  },
  {
   "cell_type": "code",
   "execution_count": 8,
   "metadata": {},
   "outputs": [
    {
     "data": {
      "text/plain": [
       "array([[ 5.73858025e+19, -2.16049383e+17,  4.01234568e+16],\n",
       "       [-2.16049383e+17,  9.31635802e+18,  1.72067901e+18],\n",
       "       [ 4.01234568e+16,  1.72067901e+18,  6.33904321e+19]])"
      ]
     },
     "execution_count": 8,
     "metadata": {},
     "output_type": "execute_result"
    }
   ],
   "source": [
    "def inertia_moment(mass, x, y):\n",
    "    return mass * (x**2 + y**2)\n",
    "def inertia_product(mass, x, y):\n",
    "    return mass * x * y\n",
    "\n",
    "inertia = np.array([[0, 0, 0],\n",
    "                    [0, 0, 0],\n",
    "                    [0, 0, 0]], dtype=float)\n",
    "\n",
    "m = mass_per_point\n",
    "for [x, y, z] in points_remap:\n",
    "    inertia += np.array([[inertia_moment(m, y, z), -inertia_product(m, x, y), -inertia_product(m, x, z)],\n",
    "                         [-inertia_product(m, x, y), inertia_moment(m, x, z), -inertia_product(m, y, z)],\n",
    "                         [-inertia_product(m, x, z), -inertia_product(m, y, z), inertia_moment(m, x, y)]])\n",
    "\n",
    "inertia"
   ]
  },
  {
   "cell_type": "code",
   "execution_count": 9,
   "metadata": {},
   "outputs": [
    {
     "name": "stdout",
     "output_type": "stream",
     "text": [
      "E-value: [9.26067960e+18 5.73866005e+19 6.34453125e+19]\n"
     ]
    }
   ],
   "source": [
    "w,_=np.linalg.eig(inertia)\n",
    "print('E-value:', w) # Eigenvalues of the inertia tensor (in kg m^2) in the form [Ixx, Iyy, Izz]"
   ]
  },
  {
   "cell_type": "markdown",
   "metadata": {},
   "source": [
    "## Spin kinetic energy\n",
    "\n",
    "Knowing that the spin kinetic energy is given by: \n",
    "$$E=\\sum_{k=1}^3{\\frac{1}{2}I_k\\Omega_k^2}$$\n",
    "By differentiating the expression with respect to time:\n",
    "$$\\frac{dE}{dt}=\\sum_{k=1}^3{I_k\\Omega_k\\frac{d\\Omega_k}{dt}}$$\n",
    "Or, according to Euler’s equations:\n",
    "$$\\frac{d\\Omega_x}{dt}+\\frac{(I_z-I_y)\\Omega_y\\Omega_z}{I_x}=\\frac{Q_x}{I_x}$$\n",
    "$$\\frac{d\\Omega_y}{dt}+\\frac{(I_x-I_z)\\Omega_z\\Omega_x}{I_y}=\\frac{Q_y}{I_y}$$\n",
    "$$\\frac{d\\Omega_z}{dt}+\\frac{(I_y-I_x)\\Omega_x\\Omega_y}{I_z}=\\frac{Q_z}{I_z}$$\n",
    "Without external torque $Q=0$.\n",
    "\n",
    "$$\\frac{d\\Omega_x}{dt}=-\\frac{(I_z-I_y)\\Omega_y\\Omega_z}{I_x}$$\n",
    "$$\\frac{d\\Omega_y}{dt}=-\\frac{(I_x-I_z)\\Omega_z\\Omega_x}{I_y}$$\n",
    "$$\\frac{d\\Omega_z}{dt}=-\\frac{(I_y-I_x)\\Omega_x\\Omega_y}{I_z}$$\n",
    "\n",
    "Thus, combining this into the differentiation of the first equation:\n",
    "\n",
    "$$\\frac{dE}{dt}=\\left(I_y-I_z+I_z-I_x+I_x-I_y\\right)\\prod_{k=1}^3\\Omega_k$$\n",
    "\n",
    "This means that $\\frac{dE}{dt}=0$. Therefore, E is constant if any external torque is apply on the system."
   ]
  }
 ],
 "metadata": {
  "kernelspec": {
   "display_name": "env",
   "language": "python",
   "name": "python3"
  },
  "language_info": {
   "codemirror_mode": {
    "name": "ipython",
    "version": 3
   },
   "file_extension": ".py",
   "mimetype": "text/x-python",
   "name": "python",
   "nbconvert_exporter": "python",
   "pygments_lexer": "ipython3",
   "version": "3.11.8"
  }
 },
 "nbformat": 4,
 "nbformat_minor": 2
}
