{
 "cells": [
  {
   "cell_type": "markdown",
   "id": "2ca38c8e",
   "metadata": {},
   "source": [
    "## Ex 2: Realistic Gravity"
   ]
  },
  {
   "cell_type": "code",
   "execution_count": 1,
   "id": "5629dfe6",
   "metadata": {},
   "outputs": [],
   "source": [
    "import matplotlib.pyplot as plt\n",
    "from space_base import GravBody, Probe\n",
    "from numpy import max, argmax\n",
    "\n",
    "# Constants\n",
    "G = 6.67e-11  # Gravitational constant\n",
    "earth = GravBody.earth()  # Earth as an object with mass and radius\n",
    "gravity = 9.81  # simple gravity\n",
    "\n",
    "# Initial Conditions\n",
    "x0 = 0  # start position\n",
    "vx0 = 850  # start vertical speed\n",
    "t_num = 1400  # number of steps in trajectory"
   ]
  },
  {
   "cell_type": "markdown",
   "id": "8982a0ac",
   "metadata": {},
   "source": [
    "First, we start by running the previous simulation with uniform gravity and then do the same simulation but with a more realistic approach."
   ]
  },
  {
   "cell_type": "code",
   "execution_count": 2,
   "id": "cf51a85b",
   "metadata": {},
   "outputs": [],
   "source": [
    "def projectile_uniform_gravity(t, posvel):\n",
    "    current_gravity = gravity\n",
    "    return posvel[1], -current_gravity\n",
    "\n",
    "t_final = (2*vx0) / gravity  # time of trajectory given\n",
    "# Running Solver\n",
    "probe = Probe(projectile_uniform_gravity, t_final, t_num, x0=x0, vx0=vx0, event=0)  # probe as an object\n",
    "t, posvel = probe.odesolve()  # solve the differential equations\n",
    "max_height_uniform_gravity = max(posvel, axis=0)[0]"
   ]
  },
  {
   "cell_type": "markdown",
   "id": "0aea4b06",
   "metadata": {},
   "source": [
    "Current gravity can be compute as follows:\n",
    "$$g=\\frac{GM}{(R+z)^2}$$\n",
    "Where, $M$ is the earth mass, $R$ its radius and $z$ is the current altitude.\n",
    "Of course, we also need to update the energy as it is now define as:\n",
    "$$E=\\frac{1}{2}m*v^2 - \\frac{GMm}{R+z}$$ "
   ]
  },
  {
   "cell_type": "code",
   "execution_count": 3,
   "id": "4a584323",
   "metadata": {},
   "outputs": [],
   "source": [
    "def projectile_with_gravity(t, posvel):\n",
    "    current_gravity = G * earth.mass / (earth.radius + posvel[0])**2\n",
    "    return posvel[1], -current_gravity\n",
    "\n",
    "t_final_temp = 200\n",
    "# Running Solver\n",
    "probe = Probe(projectile_with_gravity, t_final_temp, t_num, x0=x0, vx0=vx0, event=0)  # probe as an object\n",
    "t, posvel = probe.odesolve()  # solve the differential equations\n",
    "\n",
    "# Solver Results\n",
    "max_height_realistic_gravity = max(posvel, axis=0)[0]\n",
    "t_final_index = argmax(posvel[1:, 0]<=0)\n",
    "t_end = t_final_index if t_final_index < len(t) else len(t) - 1   # last valid value of array (corresponds to index of t_final)\n",
    "t_final_realistic_gravity = t[t_end]"
   ]
  },
  {
   "cell_type": "markdown",
   "id": "4b888bc4",
   "metadata": {},
   "source": [
    "With the new way of computing gravity we found that the maximum altitude if higher by:"
   ]
  },
  {
   "cell_type": "code",
   "execution_count": 4,
   "id": "c5f3379f",
   "metadata": {},
   "outputs": [
    {
     "data": {
      "text/plain": [
       "198.99292610568227"
      ]
     },
     "execution_count": 4,
     "metadata": {},
     "output_type": "execute_result"
    }
   ],
   "source": [
    "max_height_realistic_gravity - max_height_uniform_gravity"
   ]
  },
  {
   "cell_type": "markdown",
   "id": "64273194",
   "metadata": {},
   "source": [
    "As the trajectory is modified we can assume that time of flight will also be longer."
   ]
  },
  {
   "cell_type": "code",
   "execution_count": 5,
   "id": "67ca7066",
   "metadata": {},
   "outputs": [
    {
     "data": {
      "text/plain": [
       "1.2606937094284092"
      ]
     },
     "execution_count": 5,
     "metadata": {},
     "output_type": "execute_result"
    }
   ],
   "source": [
    "t_final_realistic_gravity - t_final"
   ]
  },
  {
   "cell_type": "markdown",
   "id": "e721c351",
   "metadata": {},
   "source": [
    "We can now check if the energy is well conserved."
   ]
  },
  {
   "cell_type": "code",
   "execution_count": 6,
   "id": "92efd752",
   "metadata": {},
   "outputs": [
    {
     "data": {
      "text/plain": [
       "1.4741062648021833e-10"
      ]
     },
     "execution_count": 6,
     "metadata": {},
     "output_type": "execute_result"
    }
   ],
   "source": [
    "in_energy = 0.5 * probe.mass * posvel[0][1] ** 2 - G * earth.mass * probe.mass  / (earth.radius + posvel[0][0])  # initial energy\n",
    "fin_energy = 0.5 * probe.mass * posvel[t_end][1] ** 2 - G * earth.mass * probe.mass  / (earth.radius + posvel[t_end][0])  # final energy\n",
    "accuracy = (fin_energy - in_energy) / in_energy  # accuracy of solver\n",
    "accuracy"
   ]
  },
  {
   "cell_type": "markdown",
   "id": "9c2139d7",
   "metadata": {},
   "source": [
    "We can also expressed the accurary as a percentage that is close to 100% if the energy at the beginning and the end of the simulation are the same."
   ]
  },
  {
   "cell_type": "code",
   "execution_count": 7,
   "id": "fd404f84",
   "metadata": {},
   "outputs": [
    {
     "data": {
      "text/plain": [
       "99.99999998525892"
      ]
     },
     "execution_count": 7,
     "metadata": {},
     "output_type": "execute_result"
    }
   ],
   "source": [
    "accuracy = 100 * in_energy / fin_energy  # accuracy of solver\n",
    "accuracy"
   ]
  },
  {
   "cell_type": "markdown",
   "id": "e5225e6c",
   "metadata": {},
   "source": [
    "Or, in contrary, make an error computation in percentage (we will then want to keep this percentage as low as possible):"
   ]
  },
  {
   "cell_type": "code",
   "execution_count": 8,
   "id": "e886c1b0",
   "metadata": {},
   "outputs": [
    {
     "data": {
      "text/plain": [
       "1.4741062648021833e-08"
      ]
     },
     "execution_count": 8,
     "metadata": {},
     "output_type": "execute_result"
    }
   ],
   "source": [
    "error_percentage = 100 * abs((fin_energy - in_energy) / in_energy)\n",
    "error_percentage"
   ]
  }
 ],
 "metadata": {
  "kernelspec": {
   "display_name": "Python 3 (ipykernel)",
   "language": "python",
   "name": "python3"
  },
  "language_info": {
   "codemirror_mode": {
    "name": "ipython",
    "version": 3
   },
   "file_extension": ".py",
   "mimetype": "text/x-python",
   "name": "python",
   "nbconvert_exporter": "python",
   "pygments_lexer": "ipython3",
   "version": "3.11.6"
  }
 },
 "nbformat": 4,
 "nbformat_minor": 5
}
